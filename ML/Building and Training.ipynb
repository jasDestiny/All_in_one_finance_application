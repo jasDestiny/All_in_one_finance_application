{
 "cells": [
  {
   "cell_type": "code",
   "execution_count": 50,
   "id": "d4bdf9e5",
   "metadata": {},
   "outputs": [],
   "source": [
    "import sagemaker\n",
    "import boto3\n",
    "from sagemaker.amazon.amazon_estimator import get_image_uri\n",
    "from sagemaker.session import s3_input,Session\n",
    "import os\n",
    "import numpy as np\n",
    "from sklearn.model_selection import train_test_split"
   ]
  },
  {
   "cell_type": "code",
   "execution_count": 51,
   "id": "00bea262",
   "metadata": {},
   "outputs": [
    {
     "name": "stdout",
     "output_type": "stream",
     "text": [
      "ap-south-1\n"
     ]
    }
   ],
   "source": [
    "bucket_name = \"loaneligibilityapplicationv3\"\n",
    "my_region = boto3.session.Session().region_name\n",
    "print(my_region)"
   ]
  },
  {
   "cell_type": "code",
   "execution_count": 52,
   "id": "5817f8c9",
   "metadata": {},
   "outputs": [
    {
     "name": "stdout",
     "output_type": "stream",
     "text": [
      "S3 bucket is created\n"
     ]
    }
   ],
   "source": [
    "s3 = boto3.resource('s3')\n",
    "try:\n",
    "    if my_region == \"ap-south-1\":\n",
    "        location = {'LocationConstraint':my_region}\n",
    "        s3.create_bucket(Bucket = bucket_name ,CreateBucketConfiguration = location)\n",
    "    print(\"S3 bucket is created\")\n",
    "except Exception as e:\n",
    "    print('S3 error: ',e)"
   ]
  },
  {
   "cell_type": "code",
   "execution_count": 53,
   "id": "22ba97d7",
   "metadata": {},
   "outputs": [
    {
     "name": "stdout",
     "output_type": "stream",
     "text": [
      "s3://loaneligibilityapplicationv3/xgboost/output\n"
     ]
    }
   ],
   "source": [
    "prefix = \"xgboost\"\n",
    "output_path = \"s3://{}/{}/output\".format(bucket_name,prefix)\n",
    "print(output_path)"
   ]
  },
  {
   "cell_type": "code",
   "execution_count": 54,
   "id": "e7c63459",
   "metadata": {},
   "outputs": [],
   "source": [
    "import pandas as pd\n",
    "try:\n",
    "    df = pd.read_csv('Data/P_Loan_Train.csv')\n",
    "except Exception as e:\n",
    "    print(\"Data load error: \",e)"
   ]
  },
  {
   "cell_type": "code",
   "execution_count": 55,
   "id": "343453cf",
   "metadata": {},
   "outputs": [
    {
     "data": {
      "text/html": [
       "<div>\n",
       "<style scoped>\n",
       "    .dataframe tbody tr th:only-of-type {\n",
       "        vertical-align: middle;\n",
       "    }\n",
       "\n",
       "    .dataframe tbody tr th {\n",
       "        vertical-align: top;\n",
       "    }\n",
       "\n",
       "    .dataframe thead th {\n",
       "        text-align: right;\n",
       "    }\n",
       "</style>\n",
       "<table border=\"1\" class=\"dataframe\">\n",
       "  <thead>\n",
       "    <tr style=\"text-align: right;\">\n",
       "      <th></th>\n",
       "      <th>Unnamed: 0</th>\n",
       "      <th>Gender</th>\n",
       "      <th>Married</th>\n",
       "      <th>Dependents</th>\n",
       "      <th>Education</th>\n",
       "      <th>Self_Employed</th>\n",
       "      <th>ApplicantIncome</th>\n",
       "      <th>CoapplicantIncome</th>\n",
       "      <th>LoanAmount</th>\n",
       "      <th>Loan_Amount_Term</th>\n",
       "      <th>Credit_History</th>\n",
       "      <th>Property_Area</th>\n",
       "      <th>Loan_Status</th>\n",
       "    </tr>\n",
       "  </thead>\n",
       "  <tbody>\n",
       "    <tr>\n",
       "      <th>0</th>\n",
       "      <td>1</td>\n",
       "      <td>1</td>\n",
       "      <td>1</td>\n",
       "      <td>1</td>\n",
       "      <td>0</td>\n",
       "      <td>0</td>\n",
       "      <td>4583</td>\n",
       "      <td>1508.0</td>\n",
       "      <td>128.0</td>\n",
       "      <td>360.0</td>\n",
       "      <td>1.0</td>\n",
       "      <td>0</td>\n",
       "      <td>0</td>\n",
       "    </tr>\n",
       "    <tr>\n",
       "      <th>1</th>\n",
       "      <td>2</td>\n",
       "      <td>1</td>\n",
       "      <td>1</td>\n",
       "      <td>0</td>\n",
       "      <td>0</td>\n",
       "      <td>1</td>\n",
       "      <td>3000</td>\n",
       "      <td>0.0</td>\n",
       "      <td>66.0</td>\n",
       "      <td>360.0</td>\n",
       "      <td>1.0</td>\n",
       "      <td>2</td>\n",
       "      <td>1</td>\n",
       "    </tr>\n",
       "    <tr>\n",
       "      <th>2</th>\n",
       "      <td>3</td>\n",
       "      <td>1</td>\n",
       "      <td>1</td>\n",
       "      <td>0</td>\n",
       "      <td>1</td>\n",
       "      <td>0</td>\n",
       "      <td>2583</td>\n",
       "      <td>2358.0</td>\n",
       "      <td>120.0</td>\n",
       "      <td>360.0</td>\n",
       "      <td>1.0</td>\n",
       "      <td>2</td>\n",
       "      <td>1</td>\n",
       "    </tr>\n",
       "    <tr>\n",
       "      <th>3</th>\n",
       "      <td>4</td>\n",
       "      <td>1</td>\n",
       "      <td>0</td>\n",
       "      <td>0</td>\n",
       "      <td>0</td>\n",
       "      <td>0</td>\n",
       "      <td>6000</td>\n",
       "      <td>0.0</td>\n",
       "      <td>141.0</td>\n",
       "      <td>360.0</td>\n",
       "      <td>1.0</td>\n",
       "      <td>2</td>\n",
       "      <td>1</td>\n",
       "    </tr>\n",
       "    <tr>\n",
       "      <th>4</th>\n",
       "      <td>5</td>\n",
       "      <td>1</td>\n",
       "      <td>1</td>\n",
       "      <td>2</td>\n",
       "      <td>0</td>\n",
       "      <td>1</td>\n",
       "      <td>5417</td>\n",
       "      <td>4196.0</td>\n",
       "      <td>267.0</td>\n",
       "      <td>360.0</td>\n",
       "      <td>1.0</td>\n",
       "      <td>2</td>\n",
       "      <td>1</td>\n",
       "    </tr>\n",
       "  </tbody>\n",
       "</table>\n",
       "</div>"
      ],
      "text/plain": [
       "   Unnamed: 0  Gender  Married  Dependents  Education  Self_Employed  \\\n",
       "0           1       1        1           1          0              0   \n",
       "1           2       1        1           0          0              1   \n",
       "2           3       1        1           0          1              0   \n",
       "3           4       1        0           0          0              0   \n",
       "4           5       1        1           2          0              1   \n",
       "\n",
       "   ApplicantIncome  CoapplicantIncome  LoanAmount  Loan_Amount_Term  \\\n",
       "0             4583             1508.0       128.0             360.0   \n",
       "1             3000                0.0        66.0             360.0   \n",
       "2             2583             2358.0       120.0             360.0   \n",
       "3             6000                0.0       141.0             360.0   \n",
       "4             5417             4196.0       267.0             360.0   \n",
       "\n",
       "   Credit_History  Property_Area  Loan_Status  \n",
       "0             1.0              0            0  \n",
       "1             1.0              2            1  \n",
       "2             1.0              2            1  \n",
       "3             1.0              2            1  \n",
       "4             1.0              2            1  "
      ]
     },
     "execution_count": 55,
     "metadata": {},
     "output_type": "execute_result"
    }
   ],
   "source": [
    "df.head()"
   ]
  },
  {
   "cell_type": "code",
   "execution_count": null,
   "id": "35d18031",
   "metadata": {},
   "outputs": [],
   "source": []
  },
  {
   "cell_type": "code",
   "execution_count": null,
   "id": "9e6a3531",
   "metadata": {},
   "outputs": [],
   "source": []
  },
  {
   "cell_type": "code",
   "execution_count": 56,
   "id": "1ec8c96a",
   "metadata": {},
   "outputs": [
    {
     "data": {
      "text/plain": [
       "Index(['Unnamed: 0', 'Gender', 'Married', 'Dependents', 'Education',\n",
       "       'Self_Employed', 'ApplicantIncome', 'CoapplicantIncome', 'LoanAmount',\n",
       "       'Loan_Amount_Term', 'Credit_History', 'Property_Area', 'Loan_Status'],\n",
       "      dtype='object')"
      ]
     },
     "execution_count": 56,
     "metadata": {},
     "output_type": "execute_result"
    }
   ],
   "source": [
    "df.columns"
   ]
  },
  {
   "cell_type": "code",
   "execution_count": 57,
   "id": "da23557d",
   "metadata": {},
   "outputs": [],
   "source": [
    "df.drop('Unnamed: 0',axis = 1,inplace = True)"
   ]
  },
  {
   "cell_type": "code",
   "execution_count": 58,
   "id": "10dbc83a",
   "metadata": {},
   "outputs": [
    {
     "data": {
      "text/html": [
       "<div>\n",
       "<style scoped>\n",
       "    .dataframe tbody tr th:only-of-type {\n",
       "        vertical-align: middle;\n",
       "    }\n",
       "\n",
       "    .dataframe tbody tr th {\n",
       "        vertical-align: top;\n",
       "    }\n",
       "\n",
       "    .dataframe thead th {\n",
       "        text-align: right;\n",
       "    }\n",
       "</style>\n",
       "<table border=\"1\" class=\"dataframe\">\n",
       "  <thead>\n",
       "    <tr style=\"text-align: right;\">\n",
       "      <th></th>\n",
       "      <th>Gender</th>\n",
       "      <th>Married</th>\n",
       "      <th>Dependents</th>\n",
       "      <th>Education</th>\n",
       "      <th>Self_Employed</th>\n",
       "      <th>ApplicantIncome</th>\n",
       "      <th>CoapplicantIncome</th>\n",
       "      <th>LoanAmount</th>\n",
       "      <th>Loan_Amount_Term</th>\n",
       "      <th>Credit_History</th>\n",
       "      <th>Property_Area</th>\n",
       "      <th>Loan_Status</th>\n",
       "    </tr>\n",
       "  </thead>\n",
       "  <tbody>\n",
       "    <tr>\n",
       "      <th>0</th>\n",
       "      <td>1</td>\n",
       "      <td>1</td>\n",
       "      <td>1</td>\n",
       "      <td>0</td>\n",
       "      <td>0</td>\n",
       "      <td>4583</td>\n",
       "      <td>1508.0</td>\n",
       "      <td>128.0</td>\n",
       "      <td>360.0</td>\n",
       "      <td>1.0</td>\n",
       "      <td>0</td>\n",
       "      <td>0</td>\n",
       "    </tr>\n",
       "    <tr>\n",
       "      <th>1</th>\n",
       "      <td>1</td>\n",
       "      <td>1</td>\n",
       "      <td>0</td>\n",
       "      <td>0</td>\n",
       "      <td>1</td>\n",
       "      <td>3000</td>\n",
       "      <td>0.0</td>\n",
       "      <td>66.0</td>\n",
       "      <td>360.0</td>\n",
       "      <td>1.0</td>\n",
       "      <td>2</td>\n",
       "      <td>1</td>\n",
       "    </tr>\n",
       "    <tr>\n",
       "      <th>2</th>\n",
       "      <td>1</td>\n",
       "      <td>1</td>\n",
       "      <td>0</td>\n",
       "      <td>1</td>\n",
       "      <td>0</td>\n",
       "      <td>2583</td>\n",
       "      <td>2358.0</td>\n",
       "      <td>120.0</td>\n",
       "      <td>360.0</td>\n",
       "      <td>1.0</td>\n",
       "      <td>2</td>\n",
       "      <td>1</td>\n",
       "    </tr>\n",
       "    <tr>\n",
       "      <th>3</th>\n",
       "      <td>1</td>\n",
       "      <td>0</td>\n",
       "      <td>0</td>\n",
       "      <td>0</td>\n",
       "      <td>0</td>\n",
       "      <td>6000</td>\n",
       "      <td>0.0</td>\n",
       "      <td>141.0</td>\n",
       "      <td>360.0</td>\n",
       "      <td>1.0</td>\n",
       "      <td>2</td>\n",
       "      <td>1</td>\n",
       "    </tr>\n",
       "    <tr>\n",
       "      <th>4</th>\n",
       "      <td>1</td>\n",
       "      <td>1</td>\n",
       "      <td>2</td>\n",
       "      <td>0</td>\n",
       "      <td>1</td>\n",
       "      <td>5417</td>\n",
       "      <td>4196.0</td>\n",
       "      <td>267.0</td>\n",
       "      <td>360.0</td>\n",
       "      <td>1.0</td>\n",
       "      <td>2</td>\n",
       "      <td>1</td>\n",
       "    </tr>\n",
       "  </tbody>\n",
       "</table>\n",
       "</div>"
      ],
      "text/plain": [
       "   Gender  Married  Dependents  Education  Self_Employed  ApplicantIncome  \\\n",
       "0       1        1           1          0              0             4583   \n",
       "1       1        1           0          0              1             3000   \n",
       "2       1        1           0          1              0             2583   \n",
       "3       1        0           0          0              0             6000   \n",
       "4       1        1           2          0              1             5417   \n",
       "\n",
       "   CoapplicantIncome  LoanAmount  Loan_Amount_Term  Credit_History  \\\n",
       "0             1508.0       128.0             360.0             1.0   \n",
       "1                0.0        66.0             360.0             1.0   \n",
       "2             2358.0       120.0             360.0             1.0   \n",
       "3                0.0       141.0             360.0             1.0   \n",
       "4             4196.0       267.0             360.0             1.0   \n",
       "\n",
       "   Property_Area  Loan_Status  \n",
       "0              0            0  \n",
       "1              2            1  \n",
       "2              2            1  \n",
       "3              2            1  \n",
       "4              2            1  "
      ]
     },
     "execution_count": 58,
     "metadata": {},
     "output_type": "execute_result"
    }
   ],
   "source": [
    "df.head()"
   ]
  },
  {
   "cell_type": "code",
   "execution_count": null,
   "id": "6e22f1e0",
   "metadata": {},
   "outputs": [],
   "source": []
  },
  {
   "cell_type": "code",
   "execution_count": 59,
   "id": "2ec255ec",
   "metadata": {},
   "outputs": [],
   "source": [
    "# Sagemaker needs Target to be first attribute\n",
    "# Removing Loan_Status and concatnating with remaining dataset\n",
    "loan_status = df['Loan_Status']\n",
    "df.drop('Loan_Status',axis = 1,inplace = True)\n",
    "df = pd.concat([loan_status,df]\n",
    "          ,axis = 1,)\n",
    "\n",
    "train_df,validation_df = train_test_split(df,test_size = 0.2,random_state = 27)"
   ]
  },
  {
   "cell_type": "code",
   "execution_count": 60,
   "id": "7074b082",
   "metadata": {},
   "outputs": [
    {
     "data": {
      "text/html": [
       "<div>\n",
       "<style scoped>\n",
       "    .dataframe tbody tr th:only-of-type {\n",
       "        vertical-align: middle;\n",
       "    }\n",
       "\n",
       "    .dataframe tbody tr th {\n",
       "        vertical-align: top;\n",
       "    }\n",
       "\n",
       "    .dataframe thead th {\n",
       "        text-align: right;\n",
       "    }\n",
       "</style>\n",
       "<table border=\"1\" class=\"dataframe\">\n",
       "  <thead>\n",
       "    <tr style=\"text-align: right;\">\n",
       "      <th></th>\n",
       "      <th>Loan_Status</th>\n",
       "      <th>Gender</th>\n",
       "      <th>Married</th>\n",
       "      <th>Dependents</th>\n",
       "      <th>Education</th>\n",
       "      <th>Self_Employed</th>\n",
       "      <th>ApplicantIncome</th>\n",
       "      <th>CoapplicantIncome</th>\n",
       "      <th>LoanAmount</th>\n",
       "      <th>Loan_Amount_Term</th>\n",
       "      <th>Credit_History</th>\n",
       "      <th>Property_Area</th>\n",
       "    </tr>\n",
       "  </thead>\n",
       "  <tbody>\n",
       "    <tr>\n",
       "      <th>464</th>\n",
       "      <td>1</td>\n",
       "      <td>1</td>\n",
       "      <td>1</td>\n",
       "      <td>0</td>\n",
       "      <td>0</td>\n",
       "      <td>1</td>\n",
       "      <td>16120</td>\n",
       "      <td>0.0</td>\n",
       "      <td>260.0</td>\n",
       "      <td>360.0</td>\n",
       "      <td>1.0</td>\n",
       "      <td>2</td>\n",
       "    </tr>\n",
       "    <tr>\n",
       "      <th>457</th>\n",
       "      <td>0</td>\n",
       "      <td>1</td>\n",
       "      <td>1</td>\n",
       "      <td>1</td>\n",
       "      <td>0</td>\n",
       "      <td>0</td>\n",
       "      <td>4283</td>\n",
       "      <td>3000.0</td>\n",
       "      <td>172.0</td>\n",
       "      <td>84.0</td>\n",
       "      <td>1.0</td>\n",
       "      <td>0</td>\n",
       "    </tr>\n",
       "    <tr>\n",
       "      <th>359</th>\n",
       "      <td>0</td>\n",
       "      <td>1</td>\n",
       "      <td>1</td>\n",
       "      <td>0</td>\n",
       "      <td>0</td>\n",
       "      <td>0</td>\n",
       "      <td>8334</td>\n",
       "      <td>0.0</td>\n",
       "      <td>160.0</td>\n",
       "      <td>360.0</td>\n",
       "      <td>1.0</td>\n",
       "      <td>1</td>\n",
       "    </tr>\n",
       "    <tr>\n",
       "      <th>86</th>\n",
       "      <td>1</td>\n",
       "      <td>1</td>\n",
       "      <td>0</td>\n",
       "      <td>0</td>\n",
       "      <td>0</td>\n",
       "      <td>0</td>\n",
       "      <td>5316</td>\n",
       "      <td>0.0</td>\n",
       "      <td>136.0</td>\n",
       "      <td>360.0</td>\n",
       "      <td>1.0</td>\n",
       "      <td>2</td>\n",
       "    </tr>\n",
       "    <tr>\n",
       "      <th>371</th>\n",
       "      <td>1</td>\n",
       "      <td>1</td>\n",
       "      <td>1</td>\n",
       "      <td>2</td>\n",
       "      <td>0</td>\n",
       "      <td>0</td>\n",
       "      <td>6700</td>\n",
       "      <td>1750.0</td>\n",
       "      <td>230.0</td>\n",
       "      <td>300.0</td>\n",
       "      <td>1.0</td>\n",
       "      <td>1</td>\n",
       "    </tr>\n",
       "  </tbody>\n",
       "</table>\n",
       "</div>"
      ],
      "text/plain": [
       "     Loan_Status  Gender  Married  Dependents  Education  Self_Employed  \\\n",
       "464            1       1        1           0          0              1   \n",
       "457            0       1        1           1          0              0   \n",
       "359            0       1        1           0          0              0   \n",
       "86             1       1        0           0          0              0   \n",
       "371            1       1        1           2          0              0   \n",
       "\n",
       "     ApplicantIncome  CoapplicantIncome  LoanAmount  Loan_Amount_Term  \\\n",
       "464            16120                0.0       260.0             360.0   \n",
       "457             4283             3000.0       172.0              84.0   \n",
       "359             8334                0.0       160.0             360.0   \n",
       "86              5316                0.0       136.0             360.0   \n",
       "371             6700             1750.0       230.0             300.0   \n",
       "\n",
       "     Credit_History  Property_Area  \n",
       "464             1.0              2  \n",
       "457             1.0              0  \n",
       "359             1.0              1  \n",
       "86              1.0              2  \n",
       "371             1.0              1  "
      ]
     },
     "execution_count": 60,
     "metadata": {},
     "output_type": "execute_result"
    }
   ],
   "source": [
    "train_df.head()\n"
   ]
  },
  {
   "cell_type": "code",
   "execution_count": 61,
   "id": "40662448",
   "metadata": {},
   "outputs": [
    {
     "name": "stdout",
     "output_type": "stream",
     "text": [
      "(384, 12)\n"
     ]
    }
   ],
   "source": [
    "print(train_df.shape)"
   ]
  },
  {
   "cell_type": "code",
   "execution_count": 62,
   "id": "a73b8e9e",
   "metadata": {},
   "outputs": [
    {
     "data": {
      "text/plain": [
       "(96, 12)"
      ]
     },
     "execution_count": 62,
     "metadata": {},
     "output_type": "execute_result"
    }
   ],
   "source": [
    "validation_df.shape"
   ]
  },
  {
   "cell_type": "code",
   "execution_count": 63,
   "id": "455fa8cb",
   "metadata": {},
   "outputs": [
    {
     "data": {
      "text/html": [
       "<div>\n",
       "<style scoped>\n",
       "    .dataframe tbody tr th:only-of-type {\n",
       "        vertical-align: middle;\n",
       "    }\n",
       "\n",
       "    .dataframe tbody tr th {\n",
       "        vertical-align: top;\n",
       "    }\n",
       "\n",
       "    .dataframe thead th {\n",
       "        text-align: right;\n",
       "    }\n",
       "</style>\n",
       "<table border=\"1\" class=\"dataframe\">\n",
       "  <thead>\n",
       "    <tr style=\"text-align: right;\">\n",
       "      <th></th>\n",
       "      <th>Loan_Status</th>\n",
       "      <th>Gender</th>\n",
       "      <th>Married</th>\n",
       "      <th>Dependents</th>\n",
       "      <th>Education</th>\n",
       "      <th>Self_Employed</th>\n",
       "      <th>ApplicantIncome</th>\n",
       "      <th>CoapplicantIncome</th>\n",
       "      <th>LoanAmount</th>\n",
       "      <th>Loan_Amount_Term</th>\n",
       "      <th>Credit_History</th>\n",
       "      <th>Property_Area</th>\n",
       "    </tr>\n",
       "  </thead>\n",
       "  <tbody>\n",
       "    <tr>\n",
       "      <th>249</th>\n",
       "      <td>1</td>\n",
       "      <td>1</td>\n",
       "      <td>1</td>\n",
       "      <td>2</td>\n",
       "      <td>0</td>\n",
       "      <td>0</td>\n",
       "      <td>3717</td>\n",
       "      <td>0.000000</td>\n",
       "      <td>120.0</td>\n",
       "      <td>360.0</td>\n",
       "      <td>1.0</td>\n",
       "      <td>1</td>\n",
       "    </tr>\n",
       "    <tr>\n",
       "      <th>453</th>\n",
       "      <td>1</td>\n",
       "      <td>1</td>\n",
       "      <td>1</td>\n",
       "      <td>2</td>\n",
       "      <td>0</td>\n",
       "      <td>0</td>\n",
       "      <td>6540</td>\n",
       "      <td>0.000000</td>\n",
       "      <td>205.0</td>\n",
       "      <td>360.0</td>\n",
       "      <td>1.0</td>\n",
       "      <td>1</td>\n",
       "    </tr>\n",
       "    <tr>\n",
       "      <th>195</th>\n",
       "      <td>0</td>\n",
       "      <td>1</td>\n",
       "      <td>1</td>\n",
       "      <td>0</td>\n",
       "      <td>1</td>\n",
       "      <td>0</td>\n",
       "      <td>1668</td>\n",
       "      <td>3890.000000</td>\n",
       "      <td>201.0</td>\n",
       "      <td>360.0</td>\n",
       "      <td>0.0</td>\n",
       "      <td>1</td>\n",
       "    </tr>\n",
       "    <tr>\n",
       "      <th>383</th>\n",
       "      <td>1</td>\n",
       "      <td>1</td>\n",
       "      <td>0</td>\n",
       "      <td>0</td>\n",
       "      <td>1</td>\n",
       "      <td>0</td>\n",
       "      <td>3691</td>\n",
       "      <td>0.000000</td>\n",
       "      <td>110.0</td>\n",
       "      <td>360.0</td>\n",
       "      <td>1.0</td>\n",
       "      <td>0</td>\n",
       "    </tr>\n",
       "    <tr>\n",
       "      <th>223</th>\n",
       "      <td>1</td>\n",
       "      <td>1</td>\n",
       "      <td>1</td>\n",
       "      <td>2</td>\n",
       "      <td>0</td>\n",
       "      <td>0</td>\n",
       "      <td>2301</td>\n",
       "      <td>985.799988</td>\n",
       "      <td>78.0</td>\n",
       "      <td>180.0</td>\n",
       "      <td>1.0</td>\n",
       "      <td>2</td>\n",
       "    </tr>\n",
       "  </tbody>\n",
       "</table>\n",
       "</div>"
      ],
      "text/plain": [
       "     Loan_Status  Gender  Married  Dependents  Education  Self_Employed  \\\n",
       "249            1       1        1           2          0              0   \n",
       "453            1       1        1           2          0              0   \n",
       "195            0       1        1           0          1              0   \n",
       "383            1       1        0           0          1              0   \n",
       "223            1       1        1           2          0              0   \n",
       "\n",
       "     ApplicantIncome  CoapplicantIncome  LoanAmount  Loan_Amount_Term  \\\n",
       "249             3717           0.000000       120.0             360.0   \n",
       "453             6540           0.000000       205.0             360.0   \n",
       "195             1668        3890.000000       201.0             360.0   \n",
       "383             3691           0.000000       110.0             360.0   \n",
       "223             2301         985.799988        78.0             180.0   \n",
       "\n",
       "     Credit_History  Property_Area  \n",
       "249             1.0              1  \n",
       "453             1.0              1  \n",
       "195             0.0              1  \n",
       "383             1.0              0  \n",
       "223             1.0              2  "
      ]
     },
     "execution_count": 63,
     "metadata": {},
     "output_type": "execute_result"
    }
   ],
   "source": [
    "validation_df.head()"
   ]
  },
  {
   "cell_type": "code",
   "execution_count": 64,
   "id": "579c1aa3",
   "metadata": {},
   "outputs": [],
   "source": [
    "train_df.to_csv(\"train.csv\",header = False,index = False)"
   ]
  },
  {
   "cell_type": "code",
   "execution_count": 65,
   "id": "8c420ba7",
   "metadata": {},
   "outputs": [],
   "source": [
    "validation_df.to_csv(\"validation.csv\",header = False,index = False)"
   ]
  },
  {
   "cell_type": "code",
   "execution_count": 66,
   "id": "8675361e",
   "metadata": {},
   "outputs": [],
   "source": [
    "boto3.Session().resource('s3').Bucket(bucket_name).Object(os.path.join(prefix,'train/train.csv')).upload_file('train.csv')"
   ]
  },
  {
   "cell_type": "code",
   "execution_count": 67,
   "id": "1a56c09e",
   "metadata": {},
   "outputs": [],
   "source": [
    "s3_input_train = sagemaker.TrainingInput(s3_data='s3://{}/{}/train'.format(bucket_name,prefix),content_type = 'csv')"
   ]
  },
  {
   "cell_type": "code",
   "execution_count": 68,
   "id": "5bb45bf6",
   "metadata": {},
   "outputs": [],
   "source": [
    "boto3.Session().resource('s3').Bucket(bucket_name).Object(os.path.join(prefix,'validation/validation.csv')).upload_file('validation.csv')"
   ]
  },
  {
   "cell_type": "code",
   "execution_count": 69,
   "id": "0f29a8a9",
   "metadata": {},
   "outputs": [],
   "source": [
    "s3_input_validation = sagemaker.TrainingInput(s3_data='s3://{}/{}/validation'.format(bucket_name,prefix),content_type = 'csv')"
   ]
  },
  {
   "cell_type": "code",
   "execution_count": 70,
   "id": "7c5f34ac",
   "metadata": {},
   "outputs": [
    {
     "name": "stderr",
     "output_type": "stream",
     "text": [
      "The method get_image_uri has been renamed in sagemaker>=2.\n",
      "See: https://sagemaker.readthedocs.io/en/stable/v2.html for details.\n"
     ]
    }
   ],
   "source": [
    "container = get_image_uri(boto3.Session().region_name,\n",
    "                         'xgboost',\n",
    "                         repo_version = '1.3-1')"
   ]
  },
  {
   "cell_type": "code",
   "execution_count": 71,
   "id": "f1b21b26",
   "metadata": {},
   "outputs": [],
   "source": [
    "# initialize hyperparameters\n",
    "hyperparameters = {\n",
    "    \"max_depth\":\"5\",\n",
    "    \"eta\":\"0.2\",\n",
    "    \"gamma\":\"4\",\n",
    "    \"min_child_weight\":\"6\",\n",
    "    \"subsample\":\"0.7\",\n",
    "    \"objective\":\"binary:logistic\",\n",
    "    \"num_round\":50\n",
    "}"
   ]
  },
  {
   "cell_type": "code",
   "execution_count": 72,
   "id": "945244b4",
   "metadata": {},
   "outputs": [],
   "source": [
    "#estimator calls xgboost container\n",
    "estimator = sagemaker.estimator.Estimator(image_uri=container,\n",
    "                                          hyperparameters = hyperparameters,\n",
    "                                          role = sagemaker.get_execution_role(),\n",
    "                                          instance_count=1,\n",
    "                                          instance_type = 'ml.m4.xlarge',\n",
    "                                          volume_size = 5,\n",
    "                                          output_path = output_path,\n",
    "                                          use_spot_instances = True,\n",
    "                                          max_run = 300,\n",
    "                                          max_wait = 600)"
   ]
  },
  {
   "cell_type": "code",
   "execution_count": 73,
   "id": "3bd0a11d",
   "metadata": {},
   "outputs": [
    {
     "name": "stdout",
     "output_type": "stream",
     "text": [
      "2021-10-03 12:39:47 Starting - Starting the training job...\n",
      "2021-10-03 12:40:12 Starting - Launching requested ML instancesProfilerReport-1633264787: InProgress\n",
      "......\n",
      "2021-10-03 12:41:13 Starting - Preparing the instances for training............\n",
      "2021-10-03 12:43:13 Downloading - Downloading input data...\n",
      "2021-10-03 12:43:33 Training - Downloading the training image..\u001b[34m[2021-10-03 12:43:53.970 ip-10-0-181-58.ap-south-1.compute.internal:1 INFO utils.py:27] RULE_JOB_STOP_SIGNAL_FILENAME: None\u001b[0m\n",
      "\u001b[34m[2021-10-03:12:43:54:INFO] Imported framework sagemaker_xgboost_container.training\u001b[0m\n",
      "\u001b[34m[2021-10-03:12:43:54:INFO] Failed to parse hyperparameter objective value binary:logistic to Json.\u001b[0m\n",
      "\u001b[34mReturning the value itself\u001b[0m\n",
      "\u001b[34m[2021-10-03:12:43:54:INFO] No GPUs detected (normal if no gpus installed)\u001b[0m\n",
      "\u001b[34m[2021-10-03:12:43:54:INFO] Running XGBoost Sagemaker in algorithm mode\u001b[0m\n",
      "\u001b[34m[2021-10-03:12:43:54:INFO] Determined delimiter of CSV input is ','\u001b[0m\n",
      "\u001b[34m[2021-10-03:12:43:54:INFO] Determined delimiter of CSV input is ','\u001b[0m\n",
      "\u001b[34m[2021-10-03:12:43:54:INFO] Determined delimiter of CSV input is ','\u001b[0m\n",
      "\u001b[34m[2021-10-03:12:43:54:INFO] Determined delimiter of CSV input is ','\u001b[0m\n",
      "\u001b[34m[2021-10-03:12:43:54:INFO] Single node training.\u001b[0m\n",
      "\u001b[34m[2021-10-03:12:43:54:INFO] Train matrix has 384 rows and 11 columns\u001b[0m\n",
      "\u001b[34m[2021-10-03:12:43:54:INFO] Validation matrix has 96 rows\u001b[0m\n",
      "\u001b[34m/miniconda3/lib/python3.7/site-packages/xgboost/training.py:20: UserWarning: Old style callback is deprecated.  See: https://xgboost.readthedocs.io/en/latest/python/callbacks.html\n",
      "  warnings.warn(f'Old style callback is deprecated.  See: {link}', UserWarning)\u001b[0m\n",
      "\u001b[34m[12:43:54] WARNING: ../src/learner.cc:1061: Starting in XGBoost 1.3.0, the default evaluation metric used with the objective 'binary:logistic' was changed from 'error' to 'logloss'. Explicitly set eval_metric if you'd like to restore the old behavior.\u001b[0m\n",
      "\u001b[34m[0]#011train-logloss:0.62123#011validation-logloss:0.63214\u001b[0m\n",
      "\u001b[34m[1]#011train-logloss:0.57288#011validation-logloss:0.59221\u001b[0m\n",
      "\u001b[34m[2]#011train-logloss:0.53279#011validation-logloss:0.57088\u001b[0m\n",
      "\u001b[34m[3]#011train-logloss:0.51143#011validation-logloss:0.55573\u001b[0m\n",
      "\u001b[34m[4]#011train-logloss:0.49839#011validation-logloss:0.55362\u001b[0m\n",
      "\u001b[34m[5]#011train-logloss:0.48367#011validation-logloss:0.54445\u001b[0m\n",
      "\u001b[34m[6]#011train-logloss:0.47184#011validation-logloss:0.54150\u001b[0m\n",
      "\u001b[34m[7]#011train-logloss:0.46247#011validation-logloss:0.53985\u001b[0m\n",
      "\u001b[34m[8]#011train-logloss:0.45534#011validation-logloss:0.53729\u001b[0m\n",
      "\u001b[34m[9]#011train-logloss:0.45077#011validation-logloss:0.53612\u001b[0m\n",
      "\u001b[34m[10]#011train-logloss:0.44431#011validation-logloss:0.53966\u001b[0m\n",
      "\u001b[34m[11]#011train-logloss:0.44404#011validation-logloss:0.53997\u001b[0m\n",
      "\u001b[34m[12]#011train-logloss:0.43765#011validation-logloss:0.53887\u001b[0m\n",
      "\u001b[34m[13]#011train-logloss:0.43623#011validation-logloss:0.54075\u001b[0m\n",
      "\u001b[34m[14]#011train-logloss:0.43589#011validation-logloss:0.54198\u001b[0m\n",
      "\u001b[34m[15]#011train-logloss:0.43592#011validation-logloss:0.54181\u001b[0m\n",
      "\u001b[34m[16]#011train-logloss:0.43032#011validation-logloss:0.54428\u001b[0m\n",
      "\u001b[34m[17]#011train-logloss:0.42674#011validation-logloss:0.54803\u001b[0m\n",
      "\u001b[34m[18]#011train-logloss:0.42678#011validation-logloss:0.54770\u001b[0m\n",
      "\u001b[34m[19]#011train-logloss:0.42532#011validation-logloss:0.54304\u001b[0m\n",
      "\u001b[34m[20]#011train-logloss:0.42518#011validation-logloss:0.54381\u001b[0m\n",
      "\u001b[34m[21]#011train-logloss:0.42518#011validation-logloss:0.54380\u001b[0m\n",
      "\u001b[34m[22]#011train-logloss:0.42518#011validation-logloss:0.54384\u001b[0m\n",
      "\u001b[34m[23]#011train-logloss:0.42525#011validation-logloss:0.54334\u001b[0m\n",
      "\u001b[34m[24]#011train-logloss:0.42540#011validation-logloss:0.54277\u001b[0m\n",
      "\u001b[34m[25]#011train-logloss:0.42532#011validation-logloss:0.54302\u001b[0m\n",
      "\u001b[34m[26]#011train-logloss:0.42519#011validation-logloss:0.54375\u001b[0m\n",
      "\u001b[34m[27]#011train-logloss:0.42515#011validation-logloss:0.54429\u001b[0m\n",
      "\u001b[34m[28]#011train-logloss:0.42519#011validation-logloss:0.54550\u001b[0m\n",
      "\u001b[34m[29]#011train-logloss:0.42403#011validation-logloss:0.54391\u001b[0m\n",
      "\u001b[34m[30]#011train-logloss:0.42402#011validation-logloss:0.54410\u001b[0m\n",
      "\u001b[34m[31]#011train-logloss:0.42105#011validation-logloss:0.54084\u001b[0m\n",
      "\u001b[34m[32]#011train-logloss:0.42102#011validation-logloss:0.54097\u001b[0m\n",
      "\u001b[34m[33]#011train-logloss:0.41835#011validation-logloss:0.54623\u001b[0m\n",
      "\u001b[34m[34]#011train-logloss:0.41829#011validation-logloss:0.54656\u001b[0m\n",
      "\u001b[34m[35]#011train-logloss:0.41607#011validation-logloss:0.55129\u001b[0m\n",
      "\u001b[34m[36]#011train-logloss:0.41608#011validation-logloss:0.55155\u001b[0m\n",
      "\u001b[34m[37]#011train-logloss:0.41540#011validation-logloss:0.55022\u001b[0m\n",
      "\u001b[34m[38]#011train-logloss:0.41540#011validation-logloss:0.55015\u001b[0m\n",
      "\u001b[34m[39]#011train-logloss:0.41540#011validation-logloss:0.55019\u001b[0m\n",
      "\u001b[34m[40]#011train-logloss:0.41541#011validation-logloss:0.54956\u001b[0m\n",
      "\u001b[34m[41]#011train-logloss:0.41541#011validation-logloss:0.55053\u001b[0m\n",
      "\u001b[34m[42]#011train-logloss:0.41544#011validation-logloss:0.55090\u001b[0m\n",
      "\u001b[34m[43]#011train-logloss:0.41540#011validation-logloss:0.55007\u001b[0m\n",
      "\u001b[34m[44]#011train-logloss:0.41404#011validation-logloss:0.55427\u001b[0m\n",
      "\u001b[34m[45]#011train-logloss:0.41142#011validation-logloss:0.55500\u001b[0m\n",
      "\u001b[34m[46]#011train-logloss:0.41141#011validation-logloss:0.55521\u001b[0m\n",
      "\u001b[34m[47]#011train-logloss:0.41141#011validation-logloss:0.55514\u001b[0m\n",
      "\u001b[34m[48]#011train-logloss:0.41143#011validation-logloss:0.55483\u001b[0m\n",
      "\u001b[34m[49]#011train-logloss:0.41150#011validation-logloss:0.55423\u001b[0m\n",
      "\n",
      "2021-10-03 12:44:17 Uploading - Uploading generated training model\n",
      "2021-10-03 12:44:33 Completed - Training job completed\n",
      "Training seconds: 74\n",
      "Billable seconds: 20\n",
      "Managed Spot Training savings: 73.0%\n"
     ]
    }
   ],
   "source": [
    "estimator.fit({'train':s3_input_train,'validation':s3_input_validation})"
   ]
  },
  {
   "cell_type": "code",
   "execution_count": 86,
   "id": "099dd21c",
   "metadata": {},
   "outputs": [
    {
     "name": "stdout",
     "output_type": "stream",
     "text": [
      "------!"
     ]
    }
   ],
   "source": [
    "xgb_deployment = estimator.deploy(initial_instance_count=1,instance_type='ml.m4.xlarge')"
   ]
  },
  {
   "cell_type": "code",
   "execution_count": 87,
   "id": "6870fdf3",
   "metadata": {},
   "outputs": [
    {
     "name": "stderr",
     "output_type": "stream",
     "text": [
      "The endpoint attribute has been renamed in sagemaker>=2.\n",
      "See: https://sagemaker.readthedocs.io/en/stable/v2.html for details.\n"
     ]
    },
    {
     "data": {
      "text/plain": [
       "'sagemaker-xgboost-2021-10-07-04-36-25-426'"
      ]
     },
     "execution_count": 87,
     "metadata": {},
     "output_type": "execute_result"
    }
   ],
   "source": [
    "xgb_deployment.endpoint"
   ]
  },
  {
   "cell_type": "code",
   "execution_count": 93,
   "id": "54a8712e",
   "metadata": {},
   "outputs": [],
   "source": [
    "from sagemaker.serializers import CSVSerializer\n",
    "\n",
    "xgb_deployment.serializer = CSVSerializer()"
   ]
  },
  {
   "cell_type": "code",
   "execution_count": 94,
   "id": "0ee59f03",
   "metadata": {},
   "outputs": [
    {
     "name": "stderr",
     "output_type": "stream",
     "text": [
      "The endpoint attribute has been renamed in sagemaker>=2.\n",
      "See: https://sagemaker.readthedocs.io/en/stable/v2.html for details.\n"
     ]
    },
    {
     "data": {
      "text/plain": [
       "'sagemaker-xgboost-2021-10-07-04-36-25-426'"
      ]
     },
     "execution_count": 94,
     "metadata": {},
     "output_type": "execute_result"
    }
   ],
   "source": [
    "xgb_deployment.endpoint"
   ]
  },
  {
   "cell_type": "code",
   "execution_count": null,
   "id": "ed51afbd",
   "metadata": {},
   "outputs": [],
   "source": [
    "\n"
   ]
  },
  {
   "cell_type": "code",
   "execution_count": null,
   "id": "316be9b6",
   "metadata": {},
   "outputs": [],
   "source": []
  },
  {
   "cell_type": "code",
   "execution_count": 97,
   "id": "4935c23d",
   "metadata": {},
   "outputs": [
    {
     "name": "stdout",
     "output_type": "stream",
     "text": [
      "(96,)\n"
     ]
    }
   ],
   "source": [
    "from sagemaker.predictor import csv_serializer\n",
    "test_data_array = validation_df.drop(['Loan_Status'], axis=1).values #load the data into an array\n",
    "predictions = xgb_deployment.predict(test_data_array).decode('utf-8') # predict!\n",
    "predictions_array = np.fromstring(predictions[1:], sep=',') # and turn the prediction into an array\n",
    "print(predictions_array.shape)"
   ]
  },
  {
   "cell_type": "code",
   "execution_count": 98,
   "id": "f092d041",
   "metadata": {},
   "outputs": [
    {
     "data": {
      "text/plain": [
       "'0.8611176013946533,0.8811799883842468,0.2203277051448822,0.7132605314254761,0.8641104698181152,0.8052459955215454,0.8785168528556824,0.9103271961212158,0.882922887802124,0.7269582748413086,0.6999669671058655,0.7666990756988525,0.266672283411026,0.7275015711784363,0.2967309057712555,0.9122282266616821,0.7292051315307617,0.6444319486618042,0.8242905735969543,0.9122282266616821,0.7779185175895691,0.7344366908073425,0.7376565337181091,0.8578895330429077,0.758962869644165,0.8590726256370544,0.18846845626831055,0.8611176013946533,0.7450196146965027,0.8136629462242126,0.7808809876441956,0.5645716190338135,0.5116123557090759,0.1856885701417923,0.8194150924682617,0.7292051315307617,0.8221940398216248,0.1440105140209198,0.8221940398216248,0.822127640247345,0.758962869644165,0.6927008032798767,0.24735845625400543,0.19506345689296722,0.8969494700431824,0.8641104698181152,0.8915001153945923,0.8194150924682617,0.8262336254119873,0.7808809876441956,0.2296258807182312,0.17943911254405975,0.13371670246124268,0.7412201166152954,0.6170384287834167,0.9213947057723999,0.7825643420219421,0.8593690395355225,0.9333184957504272,0.5942477583885193,0.22644133865833282,0.17943911254405975,0.7433597445487976,0.9122282266616821,0.7257446646690369,0.8104154467582703,0.7932243943214417,0.20441855490207672,0.9104022979736328,0.1440105140209198,0.154886856675148,0.8194150924682617,0.13579759001731873,0.8771580457687378,0.11463094502687454,0.6470071077346802,0.8136629462242126,0.9037354588508606,0.7799884676933289,0.8593690395355225,0.8793041110038757,0.8050289154052734,0.6350162029266357,0.7666990756988525,0.6170384287834167,0.7787818312644958,0.708453893661499,0.8580602407455444,0.6484318971633911,0.16628243029117584,0.6444319486618042,0.8914151787757874,0.7441010475158691,0.8762571811676025,0.6955181360244751,0.7738798260688782'"
      ]
     },
     "execution_count": 98,
     "metadata": {},
     "output_type": "execute_result"
    }
   ],
   "source": [
    "predictions"
   ]
  },
  {
   "cell_type": "code",
   "execution_count": 99,
   "id": "994694b8",
   "metadata": {
    "scrolled": true
   },
   "outputs": [
    {
     "name": "stdout",
     "output_type": "stream",
     "text": [
      "\n",
      "Overall Classification Rate: 77.1%\n",
      "\n",
      "Predicted      Not Approved   Approved\n",
      "Observed\n",
      "Not Approved   84% (16)    25% (19)\n",
      "Approved        16% (3)     75% (58) \n",
      "\n"
     ]
    }
   ],
   "source": [
    "cm = pd.crosstab(index=validation_df['Loan_Status'], columns=np.round(predictions_array), rownames=['Observed'], colnames=['Predicted'])\n",
    "tn = cm.iloc[0,0]; fn = cm.iloc[1,0]; tp = cm.iloc[1,1]; fp = cm.iloc[0,1]; p = (tp+tn)/(tp+tn+fp+fn)*100\n",
    "print(\"\\n{0:<20}{1:<4.1f}%\\n\".format(\"Overall Classification Rate: \", p))\n",
    "print(\"{0:<15}{1:<15}{2:>8}\".format(\"Predicted\", \"Not Approved\", \"Approved\"))\n",
    "print(\"Observed\")\n",
    "print(\"{0:<15}{1:<2.0f}% ({2:<}){3:>6.0f}% ({4:<})\".format(\"Not Approved\", tn/(tn+fn)*100,tn, fp/(tp+fp)*100, fp))\n",
    "print(\"{0:<16}{1:<1.0f}% ({2:<}){3:>7.0f}% ({4:<}) \\n\".format(\"Approved\", fn/(tn+fn)*100,fn, tp/(tp+fp)*100, tp))"
   ]
  },
  {
   "cell_type": "code",
   "execution_count": null,
   "id": "3fe08618",
   "metadata": {},
   "outputs": [],
   "source": []
  }
 ],
 "metadata": {
  "kernelspec": {
   "display_name": "conda_python3",
   "language": "python",
   "name": "conda_python3"
  },
  "language_info": {
   "codemirror_mode": {
    "name": "ipython",
    "version": 3
   },
   "file_extension": ".py",
   "mimetype": "text/x-python",
   "name": "python",
   "nbconvert_exporter": "python",
   "pygments_lexer": "ipython3",
   "version": "3.6.13"
  }
 },
 "nbformat": 4,
 "nbformat_minor": 5
}
